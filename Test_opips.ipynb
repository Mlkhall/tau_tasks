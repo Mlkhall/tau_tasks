{
 "cells": [
  {
   "cell_type": "code",
   "execution_count": null,
   "id": "5d3bf0ad",
   "metadata": {},
   "outputs": [],
   "source": [
    "import sympy as sym\n",
    "import matplotlib.pyplot as plt \n",
    "import sympy as syp\n",
    "import numpy as np\n",
    "from math import pi\n",
    "from matplotlib import interactive\n",
    "from matplotlib.patches import Circle\n",
    "from numpy import round as nr, linspace, arange, exp, array, angle \n",
    "from scipy.signal import TransferFunction as tf\n",
    "from sympy.integrals.transforms import inverse_laplace_transform\n",
    "from sympy.utilities.lambdify import lambdify, implemented_function\n",
    "import numpy as np"
   ]
  },
  {
   "cell_type": "code",
   "execution_count": null,
   "id": "5fac15ba",
   "metadata": {},
   "outputs": [],
   "source": [
    "p = syp.symbols('p')\n",
    "t = syp.symbols('t',real = True)\n",
    "w = sym.Symbol(\"w\", real=True)\n",
    "expression = 1/((p**2)+2*p+2)\n",
    "w_wes = inverse_laplace_transform(expression, p, t)\n",
    "w_wes\n",
    "h_per=inverse_laplace_transform(expression/p, p, t)\n",
    "g=lambdify(t, w_wes, 'numpy')\n",
    "h=lambdify(t, h_per, 'numpy')\n",
    "W=lambdify(p,expression, 'numpy')\n",
    "t=linspace(0,10,100)\n",
    "plt.plot(t,g(t), color='b', linewidth=2)\n",
    "plt.grid(True)\n",
    "plt.show()\n",
    "plt.plot(t,h(t), color='b', linewidth=2)\n",
    "plt.grid(True)\n",
    "plt.show()"
   ]
  },
  {
   "cell_type": "code",
   "execution_count": 65,
   "id": "974ab349",
   "metadata": {},
   "outputs": [
    {
     "data": {
      "text/latex": [
       "$\\displaystyle \\frac{1}{\\left|{\\left(- w^{2} + 2 i w + 2\\right)^{1.0}}\\right|}$"
      ],
      "text/plain": [
       "1/Abs((-w**2 + 2*I*w + 2)**1.0)"
      ]
     },
     "execution_count": 65,
     "metadata": {},
     "output_type": "execute_result"
    }
   ],
   "source": [
    "a = sym.Abs(W(w*sym.I).expand())\n",
    "a"
   ]
  },
  {
   "cell_type": "code",
   "execution_count": 66,
   "id": "60d97f6d",
   "metadata": {},
   "outputs": [
    {
     "data": {
      "image/png": "[encoded data removed]",
      "text/plain": [
       "<Figure size 432x288 with 1 Axes>"
      ]
     },
     "metadata": {
      "needs_background": "light"
     },
     "output_type": "display_data"
    }
   ],
   "source": [
    "A = lambdify(w, a, 'numpy')\n",
    "omega = linspace(0,10,100)\n",
    "plt.plot(omega, A(omega), color = 'b', linewidth=2)\n",
    "plt.grid(True)\n",
    "plt.show()"
   ]
  },
  {
   "cell_type": "code",
   "execution_count": 71,
   "id": "ca41e2dd",
   "metadata": {},
   "outputs": [
    {
     "data": {
      "text/latex": [
       "$\\displaystyle \\arg{\\left(\\left(- w^{2} + 2 i w + 2\\right)^{-1.0} \\right)}$"
      ],
      "text/plain": [
       "arg((-w**2 + 2*I*w + 2)**(-1.0))"
      ]
     },
     "execution_count": 71,
     "metadata": {},
     "output_type": "execute_result"
    }
   ],
   "source": [
    "phi = sym.arg(W(w*sym.I).expand())\n",
    "phi"
   ]
  },
  {
   "cell_type": "code",
   "execution_count": 73,
   "id": "eeabdd36",
   "metadata": {},
   "outputs": [
    {
     "data": {
      "image/png": "[encoded data removed]",
      "text/plain": [
       "<Figure size 432x288 with 1 Axes>"
      ]
     },
     "metadata": {
      "needs_background": "light"
     },
     "output_type": "display_data"
    }
   ],
   "source": [
    "Ph = lambdify(w, phi, 'numpy')\n",
    "plt.plot(omega, Ph(omega)*(180/pi), color = 'b', linewidth=2)\n",
    "plt.grid(True)\n",
    "plt.show()"
   ]
  },
  {
   "cell_type": "raw",
   "id": "59c1fd56",
   "metadata": {},
   "source": [
    "Настя Пидор"
   ]
  },
  {
   "cell_type": "code",
   "execution_count": null,
   "id": "52db33b8",
   "metadata": {},
   "outputs": [],
   "source": []
  }
 ],
 "metadata": {
  "kernelspec": {
   "display_name": "Python 3 (ipykernel)",
   "language": "python",
   "name": "python3"
  },
  "language_info": {
   "codemirror_mode": {
    "name": "ipython",
    "version": 3
   },
   "file_extension": ".py",
   "mimetype": "text/x-python",
   "name": "python",
   "nbconvert_exporter": "python",
   "pygments_lexer": "ipython3",
   "version": "3.9.6"
  }
 },
 "nbformat": 4,
 "nbformat_minor": 5
}
